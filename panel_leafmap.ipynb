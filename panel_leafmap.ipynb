{
 "cells": [
  {
   "cell_type": "code",
   "execution_count": null,
   "id": "a93a7bd2",
   "metadata": {},
   "outputs": [],
   "source": [
    "import leafmap\n",
    "import panel as pn\n",
    "pn.extension(sizing_mode=\"stretch_width\")\n"
   ]
  },
  {
   "cell_type": "code",
   "execution_count": null,
   "id": "c54001b7",
   "metadata": {},
   "outputs": [],
   "source": [
    "layer = pn.widgets.Select(options=[\"Census_Regions16659\", \"Census_Regions_Labels31526\", \"States\"], name='layer')"
   ]
  },
  {
   "cell_type": "code",
   "execution_count": null,
   "id": "f4290d5b",
   "metadata": {},
   "outputs": [],
   "source": [
    "def leafmap_viz(layer):\n",
    "    m = leafmap.Map(center=[30, -90], zoom=4)\n",
    "    m.add_census_data(wms=\"Census 2020\", layer=layer)\n",
    "    return m"
   ]
  },
  {
   "cell_type": "code",
   "execution_count": null,
   "id": "ac706732",
   "metadata": {
    "scrolled": false
   },
   "outputs": [],
   "source": [
    "pn.Column(layer, pn.bind(leafmap_viz, layer))"
   ]
  },
  {
   "cell_type": "code",
   "execution_count": null,
   "id": "3acdc38d",
   "metadata": {},
   "outputs": [],
   "source": [
    "template = pn.template.BootstrapTemplate(\n",
    "    title=\"Leapmap Panel App\", \n",
    "    sidebar=[layer],\n",
    "    main=[pn.bind(leafmap_viz, layer)],\n",
    "    accent_base_color=\"#88d8b0\",\n",
    "    header_background=\"#88d8b0\",\n",
    ")\n",
    "template.servable()"
   ]
  }
 ],
 "metadata": {
  "kernelspec": {
   "display_name": "Python 3 (ipykernel)",
   "language": "python",
   "name": "python3"
  },
  "language_info": {
   "codemirror_mode": {
    "name": "ipython",
    "version": 3
   },
   "file_extension": ".py",
   "mimetype": "text/x-python",
   "name": "python",
   "nbconvert_exporter": "python",
   "pygments_lexer": "ipython3",
   "version": "3.9.6"
  }
 },
 "nbformat": 4,
 "nbformat_minor": 5
}
